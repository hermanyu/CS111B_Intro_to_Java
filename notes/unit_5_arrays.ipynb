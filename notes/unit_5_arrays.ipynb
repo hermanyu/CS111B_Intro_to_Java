{
 "cells": [
  {
   "cell_type": "markdown",
   "id": "8c7f8746-2a1c-48e6-9e9d-6284bc950222",
   "metadata": {},
   "source": [
    "# Unit 5 Arrays\n",
    "---"
   ]
  },
  {
   "cell_type": "markdown",
   "id": "422dd3e1-061a-4db8-8f65-bdb42729467b",
   "metadata": {},
   "source": [
    "## Declaring Arrays"
   ]
  },
  {
   "cell_type": "markdown",
   "id": "0827be7e-cea6-45a1-aff3-206ffd4f9f35",
   "metadata": {},
   "source": [
    "To instantiate an array, the syntax is generally:\n",
    "\n",
    "```java\n",
    "dataType[] arrayName = new dataType[numElements];\n",
    "```\n",
    "\n",
    "where `dataType` is the primitive data type of the elements to be stored in the array and `numElements` is the size of the array. "
   ]
  },
  {
   "cell_type": "code",
   "execution_count": 5,
   "id": "4c42d10b-f3f6-420d-9174-e5d33d06af1a",
   "metadata": {},
   "outputs": [],
   "source": [
    "// declare a new array of 3 integers called myArray\n",
    "int[] myArray = new int[3];"
   ]
  },
  {
   "cell_type": "markdown",
   "id": "e458f25b-3e94-4fce-aa25-6ba6941d0616",
   "metadata": {},
   "source": [
    "<br>\n",
    "\n",
    "There are actually 2 things happening here:\n",
    "1. `int[] myArray` declares an array reference. That is, the reference `myArray` is being declared as the variable name for an integer array.\n",
    "2. `new int[3]` instantiates an integer array of length 3. It then gets assigned to `myArray`.\n",
    "\n",
    "We could just as well separate the two steps:"
   ]
  },
  {
   "cell_type": "code",
   "execution_count": 6,
   "id": "bceba216-b91f-40d1-b318-66a02d3a2694",
   "metadata": {},
   "outputs": [],
   "source": [
    "// declare reference\n",
    "int[] anotherArray;\n",
    "\n",
    "// instantiate and assign to reference\n",
    "anotherArray = new int[3];"
   ]
  },
  {
   "cell_type": "markdown",
   "id": "7aa16f7d-588b-4bd9-92bc-0f5c744b111c",
   "metadata": {},
   "source": [
    "<br>\n",
    "\n",
    "Generally speaking, it is good practice to do both steps in one line."
   ]
  },
  {
   "cell_type": "markdown",
   "id": "7a966eb4-3a66-46b4-99c7-c03e61333221",
   "metadata": {},
   "source": [
    "## Accessing Elements of an Array"
   ]
  },
  {
   "cell_type": "markdown",
   "id": "9f524f96-95bb-4bed-bc93-1690175e01c6",
   "metadata": {},
   "source": [
    "The elements of an array are accessed by their index, using brackets `[]`. The general syntax to access the $i$-th element of an array is:\n",
    "\n",
    "```java\n",
    "arrayName[i];\n",
    "```\n",
    "\n",
    "We can use this syntax to both store elements in an array as well as look them up."
   ]
  },
  {
   "cell_type": "code",
   "execution_count": 4,
   "id": "4755d6e3-b692-4921-8cdc-510c5b8e7976",
   "metadata": {},
   "outputs": [
    {
     "data": {
      "text/plain": [
       "122"
      ]
     },
     "execution_count": 4,
     "metadata": {},
     "output_type": "execute_result"
    }
   ],
   "source": [
    "// insert elements into myArray\n",
    "myArray[0] = 122;\n",
    "myArray[1] = 119;\n",
    "myArray[2] = 117;\n",
    "\n",
    "// access elements stored in myArray\n",
    "myArray[0];"
   ]
  },
  {
   "cell_type": "markdown",
   "id": "c5a02aee-0b60-4287-a0b8-931f223a5400",
   "metadata": {},
   "source": [
    "## Array Initialization\n",
    "\n",
    "When arrays are instantiated, they start off filled with 0's."
   ]
  },
  {
   "cell_type": "code",
   "execution_count": 9,
   "id": "7c229fd8-fcbf-40ce-a57c-67225321f73f",
   "metadata": {},
   "outputs": [
    {
     "name": "stdout",
     "output_type": "stream",
     "text": [
      "0 0 0 0 0 "
     ]
    }
   ],
   "source": [
    "int[] newArray = new int[5];\n",
    "\n",
    "// loop through and print each element of newArray\n",
    "for (int i = 0; i < 5; ++i){\n",
    "    System.out.print(newArray[i] + \" \");\n",
    "}"
   ]
  },
  {
   "cell_type": "markdown",
   "id": "df1c408c-8bd9-4cd1-8170-73d42fa86352",
   "metadata": {},
   "source": [
    "<br>\n",
    "\n",
    "We can specify initial values of the array be passing a list of values in curly brackes `{}`:"
   ]
  },
  {
   "cell_type": "code",
   "execution_count": 23,
   "id": "d44b649d-6d45-496e-9286-f9490527be26",
   "metadata": {},
   "outputs": [
    {
     "name": "stdout",
     "output_type": "stream",
     "text": [
      "5 7 11\n"
     ]
    }
   ],
   "source": [
    "int[] myArray = {5, 7, 11};\n",
    "\n",
    "System.out.println(myArray[0] + \" \" + myArray[1] + \" \" + myArray[2]);"
   ]
  },
  {
   "cell_type": "code",
   "execution_count": 25,
   "id": "0abfb7cb-bc54-4674-8e97-9ed512a4df3f",
   "metadata": {},
   "outputs": [
    {
     "name": "stdout",
     "output_type": "stream",
     "text": [
      "x a\n"
     ]
    }
   ],
   "source": [
    "char[] charArray = {'x', 'y', 'z', 'a'};\n",
    "\n",
    "System.out.println(charArray[0] + \" \" + charArray[3]);"
   ]
  },
  {
   "cell_type": "markdown",
   "id": "96a75eef-d555-44b7-afb8-3078941e1198",
   "metadata": {
    "tags": []
   },
   "source": [
    "## Array Length"
   ]
  },
  {
   "cell_type": "markdown",
   "id": "291cd937-d322-49c8-bc3c-d490749e6981",
   "metadata": {},
   "source": [
    "The length of an array can be returned using the `length` property:"
   ]
  },
  {
   "cell_type": "code",
   "execution_count": 11,
   "id": "8fc1f0cf-3f63-47ac-82d0-1a283312fb1d",
   "metadata": {},
   "outputs": [
    {
     "data": {
      "text/plain": [
       "3"
      ]
     },
     "execution_count": 11,
     "metadata": {},
     "output_type": "execute_result"
    }
   ],
   "source": [
    "// get the length of myArray\n",
    "myArray.length;"
   ]
  },
  {
   "cell_type": "markdown",
   "id": "1ff9f0ca-52d8-4ee1-8e46-92a75a618bfa",
   "metadata": {},
   "source": [
    "<br>\n",
    "\n",
    "The `length` property makes looping through arrays very convenient. For example, if we don't know the length of an array beforehand, we can use the `length` property to stop the loop at the last element."
   ]
  },
  {
   "cell_type": "code",
   "execution_count": 18,
   "id": "6503662b-1331-41b8-9e8b-56514ebf8628",
   "metadata": {},
   "outputs": [
    {
     "name": "stdout",
     "output_type": "stream",
     "text": [
      "0 1 2 3 4 5 "
     ]
    }
   ],
   "source": [
    "import java.util.Random;\n",
    "Random rand = new Random();\n",
    "\n",
    "// instantiate a new array of random length between 1 and 10\n",
    "int[] randomArray = new int[rand.nextInt(9) + 1];\n",
    "\n",
    "// Assign integers to randomArray in ascending order\n",
    "for (int i = 0; i < randomArray.length; ++i){\n",
    "    randomArray[i] = i;\n",
    "}\n",
    "\n",
    "// print each element of randomArray\n",
    "for (int i = 0; i < randomArray.length; ++i){\n",
    "    System.out.print(randomArray[i] + \" \");\n",
    "}"
   ]
  },
  {
   "cell_type": "code",
   "execution_count": null,
   "id": "a31e4c11-d4d1-4ee3-83e6-c12af564eed7",
   "metadata": {},
   "outputs": [],
   "source": []
  },
  {
   "cell_type": "code",
   "execution_count": null,
   "id": "240b41ac-560a-4774-8f62-598d44e40735",
   "metadata": {},
   "outputs": [],
   "source": []
  }
 ],
 "metadata": {
  "kernelspec": {
   "display_name": "Java",
   "language": "java",
   "name": "java"
  },
  "language_info": {
   "codemirror_mode": "java",
   "file_extension": ".jshell",
   "mimetype": "text/x-java-source",
   "name": "Java",
   "pygments_lexer": "java",
   "version": "18.0.1.1+2-6"
  }
 },
 "nbformat": 4,
 "nbformat_minor": 5
}
